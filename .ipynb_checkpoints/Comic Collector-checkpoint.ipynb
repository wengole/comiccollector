{
 "cells": [
  {
   "cell_type": "code",
   "execution_count": 6,
   "metadata": {
    "collapsed": true
   },
   "outputs": [],
   "source": [
    "from pickle import loads\n",
    "from pprint import pprint\n",
    "\n",
    "with open('marvel-data.dat', 'rb') as fh:\n",
    "    d = loads(fh.read())"
   ]
  },
  {
   "cell_type": "code",
   "execution_count": 7,
   "metadata": {},
   "outputs": [
    {
     "name": "stdout",
     "output_type": "stream",
     "text": [
      "dict_keys(['id', 'title', 'description', 'resourceURI', 'urls', 'startYear', 'endYear', 'rating', 'type', 'modified', 'thumbnail', 'creators', 'characters', 'stories', 'comics', 'events', 'next', 'previous'])\n"
     ]
    }
   ],
   "source": [
    "data = d['data']\n",
    "results = data['results']\n",
    "pprint(results[0].keys())"
   ]
  }
 ],
 "metadata": {
  "kernelspec": {
   "display_name": "Django Shell-Plus",
   "language": "python",
   "name": "django_extensions"
  },
  "language_info": {
   "codemirror_mode": {
    "name": "ipython",
    "version": 3
   },
   "file_extension": ".py",
   "mimetype": "text/x-python",
   "name": "python",
   "nbconvert_exporter": "python",
   "pygments_lexer": "ipython3",
   "version": "3.6.2"
  }
 },
 "nbformat": 4,
 "nbformat_minor": 2
}
