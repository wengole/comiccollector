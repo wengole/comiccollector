{
 "cells": [
  {
   "cell_type": "code",
   "execution_count": 26,
   "metadata": {},
   "outputs": [],
   "source": [
    "import requests\n",
    "from IPython.core.display import display, HTML\n",
    "from fake_useragent import UserAgent\n",
    "import json\n",
    "\n",
    "\n",
    "def resource(resource=None):\n",
    "    return resource or ''\n",
    "\n",
    "params = dict(\n",
    "    api_key='fd56381c1919040611bbbc82c7c92e288e93a7fd',\n",
    "    format='json',\n",
    ")\n",
    "base_url = f'https://api.comicvine.com/'\n",
    "ua = UserAgent()\n",
    "headers = {'User-Agent': ua.chrome}"
   ]
  },
  {
   "cell_type": "code",
   "execution_count": 37,
   "metadata": {
    "collapsed": true
   },
   "outputs": [],
   "source": [
    "url = f'{base_url}{resource(\"characters\")}'\n",
    "params['filter'] = 'name:ironheart'\n",
    "resp = requests.get(url, headers=headers, params=params)"
   ]
  },
  {
   "cell_type": "code",
   "execution_count": 38,
   "metadata": {},
   "outputs": [
    {
     "data": {
      "text/plain": [
       "{'error': 'OK',\n",
       " 'limit': 100,\n",
       " 'number_of_page_results': 2,\n",
       " 'number_of_total_results': 2,\n",
       " 'offset': 0,\n",
       " 'results': [{'aliases': None,\n",
       "   'api_detail_url': 'https://comicvine.gamespot.com/api/character/4005-29801/',\n",
       "   'birth': None,\n",
       "   'count_of_issue_appearances': 42,\n",
       "   'date_added': '2008-06-06 11:26:20',\n",
       "   'date_last_updated': '2011-05-05 16:53:55',\n",
       "   'deck': \"Luther Ironheart is the robotic partner of Reuben Flagg. He's not very smart, but strong.\",\n",
       "   'description': None,\n",
       "   'first_appeared_in_issue': {'api_detail_url': 'https://comicvine.gamespot.com/api/first_appeared_in_issue/4000-24182/',\n",
       "    'id': 24182,\n",
       "    'issue_number': '7',\n",
       "    'name': \"State of the Union, Part 1: The Blizzard of '32\"},\n",
       "   'gender': 1,\n",
       "   'id': 29801,\n",
       "   'image': {'icon_url': 'https://comicvine.gamespot.com/api/image/square_avatar/285932-4818-luther-ironheart.jpg',\n",
       "    'medium_url': 'https://comicvine.gamespot.com/api/image/scale_medium/285932-4818-luther-ironheart.jpg',\n",
       "    'screen_url': 'https://comicvine.gamespot.com/api/image/screen_medium/285932-4818-luther-ironheart.jpg',\n",
       "    'small_url': 'https://comicvine.gamespot.com/api/image/scale_small/285932-4818-luther-ironheart.jpg',\n",
       "    'super_url': 'https://comicvine.gamespot.com/api/image/scale_large/285932-4818-luther-ironheart.jpg',\n",
       "    'thumb_url': 'https://comicvine.gamespot.com/api/image/scale_avatar/285932-4818-luther-ironheart.jpg',\n",
       "    'tiny_url': 'https://comicvine.gamespot.com/api/image/square_mini/285932-4818-luther-ironheart.jpg'},\n",
       "   'name': 'Luther Ironheart',\n",
       "   'origin': {'api_detail_url': 'https://comicvine.gamespot.com/api/origin/4030-5/',\n",
       "    'id': 5,\n",
       "    'name': 'Robot'},\n",
       "   'publisher': {'api_detail_url': 'https://comicvine.gamespot.com/api/publisher/4010-324/',\n",
       "    'id': 324,\n",
       "    'name': 'First'},\n",
       "   'real_name': None,\n",
       "   'site_detail_url': 'https://comicvine.gamespot.com/luther-ironheart/4005-29801/'},\n",
       "  {'aliases': 'Riri Williams',\n",
       "   'api_detail_url': 'https://comicvine.gamespot.com/api/character/4005-129909/',\n",
       "   'birth': None,\n",
       "   'count_of_issue_appearances': 0,\n",
       "   'date_added': '2016-05-20 03:59:47',\n",
       "   'date_last_updated': '2017-08-03 14:24:30',\n",
       "   'deck': 'A 15-year-old M.I.T. student and tech freak who built her own version of Iron Man armor from scratch.',\n",
       "   'description': '<h2>Origin</h2><p>Riri Williams is a young girl and M.I.T. student. She became interested in technology from an early age on. While on M.I.T, she dared herself into a project that would change her life forever.</p><h2>Creation</h2><p>Riri Williams was created by Brain Michael Bendis and Mike Deodato Jr, and first appeared (in a cameo) in <a href=\"https://comicvine.gamespot.com/invincible-iron-man-7/4000-517830/\">Invincible Iron Man Vol.2 issue 7 </a>(2016). She first fully appeared in <a href=\"https://comicvine.gamespot.com/invincible-iron-man-9/4000-528510/\">Invincible Iron Man Vol.2 issue 9</a> (2016).</p><h2>Major Story Arcs</h2><h3>Inventing a Suit</h3><p>Riri had been on M.I.T. for a number of weeks when she started a project of her own. She collected scraps and started building her very own Iron Man costume.</p><p> </p><h2>Other Media</h2><h3>Games</h3><h4>Marvel Future Fight</h4><figure data-align=\"right\" data-size=\"small\" data-img-src=\"https://static7.comicvine.com/uploads/original/14/148344/5645023-sin+t%C3%ADtulo.jpg\" data-ref-id=\"1300-5645023\" data-ratio=\"0.54940711462451\" data-width=\"1012\" data-embed-type=\"image\" style=\"width: 1012px\"><a class=\"fluid-height\" style=\"padding-bottom:54.9%\" href=\"https://static7.comicvine.com/uploads/original/14/148344/5645023-sin+t%C3%ADtulo.jpg\" data-ref-id=\"1300-5645023\"><img alt=\"Ironheart is a Marvel Future Fight\" src=\"https://static.comicvine.com/uploads/scale_small/14/148344/5645023-sin+t%C3%ADtulo.jpg\" srcset=\"https://static.comicvine.com/uploads/original/14/148344/5645023-sin+t%C3%ADtulo.jpg 1012w, https://static.comicvine.com/uploads/scale_super/14/148344/5645023-sin+t%C3%ADtulo.jpg 960w, https://static.comicvine.com/uploads/scale_medium/14/148344/5645023-sin+t%C3%ADtulo.jpg 480w, https://static.comicvine.com/uploads/scale_small/14/148344/5645023-sin+t%C3%ADtulo.jpg 320w\" sizes=\"(max-width: 320px) 100vw, 320px\" data-width=\"320\"></a><figcaption>Ironheart is a Marvel Future Fight</figcaption></figure><p>Iron Heart is a playable character in the game. She is a Blast type.</p><p>Her bio in the game says: As a certified genius, Riri reversed-engineered Tony Stark\\'s Iron Man Armor at the age of 15. What started as a small challenge quickly became her greatest ambition: to create her own version of the Iron Man suit and help those in need. After learning of Riri\\'s first successful prototype, Tony Stark visits her and decides to endorse her desire to become the Invincible Ironheart!</p><p> </p><h4>Marvel Puzzle Quest</h4><figure data-align=\"right\" data-size=\"small\" data-img-src=\"https://static.comicvine.com/uploads/original/14/148344/5877541-puz_post_master.jpg\" data-ref-id=\"1300-5877541\" data-ratio=\"0.5625\" data-width=\"960\" data-embed-type=\"image\" style=\"width: 960px\"><a class=\"fluid-height\" style=\"padding-bottom:56.3%\" href=\"https://static.comicvine.com/uploads/original/14/148344/5877541-puz_post_master.jpg\" data-ref-id=\"1300-5877541\"><img alt=\"Ironheart in Marvel Puzzle Quest\" src=\"https://static.comicvine.com/uploads/scale_small/14/148344/5877541-puz_post_master.jpg\" srcset=\"https://static.comicvine.com/uploads/original/14/148344/5877541-puz_post_master.jpg 960w, https://static.comicvine.com/uploads/scale_medium/14/148344/5877541-puz_post_master.jpg 480w, https://static.comicvine.com/uploads/scale_small/14/148344/5877541-puz_post_master.jpg 320w\" sizes=\"(max-width: 320px) 100vw, 320px\" data-width=\"320\"></a><figcaption>Ironheart in Marvel Puzzle Quest</figcaption></figure><p>Riri Williams as Ironheart is a playanle character in the game.</p><p>Her bio in the game says: Riri Williams was an engineering prodigy, recieving a full ride scholarship to M.I.T.. What began as a personal challenge to build her own prototype Iron Man armor, soon became a secret project. Impressed, Tony Stark visited and endorsed Riri\\'s desire to become a Super Hero.</p><p> </p><h3>Merchandise</h3><figure data-align=\"right\" data-size=\"small\" data-img-src=\"https://static2.comicvine.com/uploads/original/11/113509/5779200-iron+heart.jpg\" data-ref-id=\"1300-5779200\" data-ratio=\"1.6066666666667\" data-width=\"1200\" data-embed-type=\"image\" style=\"width: 1200px\"><a class=\"fluid-height\" style=\"padding-bottom:160.7%\" href=\"https://static2.comicvine.com/uploads/original/11/113509/5779200-iron+heart.jpg\" data-ref-id=\"1300-5779200\"><img alt=\"No Caption Provided\" src=\"data:image/gif;base64,R0lGODlhAQABAAAAACH5BAEKAAEALAAAAAABAAEAAAICTAEAOw==\" sizes=\"(max-width: 398px) 100vw, 398px\" data-width=\"398\" class=\"js-lazy-load-image\" data-src=\"https://static.comicvine.com/uploads/scale_small/11/113509/5779200-iron+heart.jpg\" data-srcset=\"https://static.comicvine.com/uploads/original/11/113509/5779200-iron+heart.jpg 1200w, https://static.comicvine.com/uploads/scale_super/11/113509/5779200-iron+heart.jpg 1195w, https://static.comicvine.com/uploads/scale_medium/11/113509/5779200-iron+heart.jpg 597w, https://static.comicvine.com/uploads/scale_small/11/113509/5779200-iron+heart.jpg 398w\"><noscript><img alt=\"No Caption Provided\" src=\"https://static.comicvine.com/uploads/scale_small/11/113509/5779200-iron+heart.jpg\" srcset=\"https://static.comicvine.com/uploads/original/11/113509/5779200-iron+heart.jpg 1200w, https://static.comicvine.com/uploads/scale_super/11/113509/5779200-iron+heart.jpg 1195w, https://static.comicvine.com/uploads/scale_medium/11/113509/5779200-iron+heart.jpg 597w, https://static.comicvine.com/uploads/scale_small/11/113509/5779200-iron+heart.jpg 398w\" sizes=\"(max-width: 398px) 100vw, 398px\" data-width=\"398\"></noscript></a></figure><ul><li>Diamond Select released a PVC statue of Iron Heart.</li></ul>',\n",
       "   'first_appeared_in_issue': {'api_detail_url': 'https://comicvine.gamespot.com/api/first_appeared_in_issue/4000-517830/',\n",
       "    'id': 517830,\n",
       "    'issue_number': '7',\n",
       "    'name': None},\n",
       "   'gender': 2,\n",
       "   'id': 129909,\n",
       "   'image': {'icon_url': 'https://comicvine.gamespot.com/api/image/square_avatar/5396924-invim2016001-dekalvar-78de2.jpg',\n",
       "    'medium_url': 'https://comicvine.gamespot.com/api/image/scale_medium/5396924-invim2016001-dekalvar-78de2.jpg',\n",
       "    'screen_url': 'https://comicvine.gamespot.com/api/image/screen_medium/5396924-invim2016001-dekalvar-78de2.jpg',\n",
       "    'small_url': 'https://comicvine.gamespot.com/api/image/scale_small/5396924-invim2016001-dekalvar-78de2.jpg',\n",
       "    'super_url': 'https://comicvine.gamespot.com/api/image/scale_large/5396924-invim2016001-dekalvar-78de2.jpg',\n",
       "    'thumb_url': 'https://comicvine.gamespot.com/api/image/scale_avatar/5396924-invim2016001-dekalvar-78de2.jpg',\n",
       "    'tiny_url': 'https://comicvine.gamespot.com/api/image/square_mini/5396924-invim2016001-dekalvar-78de2.jpg'},\n",
       "   'name': 'Ironheart',\n",
       "   'origin': {'api_detail_url': 'https://comicvine.gamespot.com/api/origin/4030-4/',\n",
       "    'id': 4,\n",
       "    'name': 'Human'},\n",
       "   'publisher': {'api_detail_url': 'https://comicvine.gamespot.com/api/publisher/4010-31/',\n",
       "    'id': 31,\n",
       "    'name': 'Marvel'},\n",
       "   'real_name': 'Riri Williams',\n",
       "   'site_detail_url': 'https://comicvine.gamespot.com/ironheart/4005-129909/'}],\n",
       " 'status_code': 1,\n",
       " 'version': '1.0'}"
      ]
     },
     "execution_count": 38,
     "metadata": {},
     "output_type": "execute_result"
    }
   ],
   "source": [
    "json.loads(resp.text)"
   ]
  }
 ],
 "metadata": {
  "kernelspec": {
   "display_name": "Django Shell-Plus",
   "language": "python",
   "name": "django_extensions"
  },
  "language_info": {
   "codemirror_mode": {
    "name": "ipython",
    "version": 3
   },
   "file_extension": ".py",
   "mimetype": "text/x-python",
   "name": "python",
   "nbconvert_exporter": "python",
   "pygments_lexer": "ipython3",
   "version": "3.6.2"
  }
 },
 "nbformat": 4,
 "nbformat_minor": 2
}
